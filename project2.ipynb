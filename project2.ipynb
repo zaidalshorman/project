{
  "nbformat": 4,
  "nbformat_minor": 0,
  "metadata": {
    "colab": {
      "provenance": [],
      "include_colab_link": true
    },
    "kernelspec": {
      "name": "python3",
      "display_name": "Python 3"
    },
    "language_info": {
      "name": "python"
    }
  },
  "cells": [
    {
      "cell_type": "markdown",
      "metadata": {
        "id": "view-in-github",
        "colab_type": "text"
      },
      "source": [
        "<a href=\"https://colab.research.google.com/github/zaidalshorman/project/blob/main/project2.ipynb\" target=\"_parent\"><img src=\"https://colab.research.google.com/assets/colab-badge.svg\" alt=\"Open In Colab\"/></a>"
      ]
    },
    {
      "cell_type": "code",
      "execution_count": null,
      "metadata": {
        "id": "7xfB0KB-YSo9"
      },
      "outputs": [],
      "source": [
        "import pandas as pd\n",
        "import numpy as np\n",
        "data = pd.read_csv('/content/Mall_Customers.csv')\n",
        "data.head(10)\n"
      ]
    },
    {
      "cell_type": "code",
      "source": [
        "print(data.shape)\n",
        "print(data.info())"
      ],
      "metadata": {
        "id": "wFMzJdyVZlZ9"
      },
      "execution_count": null,
      "outputs": []
    },
    {
      "cell_type": "code",
      "source": [
        "print(data.describe())\n",
        "missing_values = data.isnull().sum()\n",
        "print(missing_values)"
      ],
      "metadata": {
        "id": "yumVZJP6ZlXA"
      },
      "execution_count": null,
      "outputs": []
    },
    {
      "cell_type": "code",
      "source": [
        "from sklearn.preprocessing import StandardScaler\n",
        "import pandas as pd\n",
        "from sklearn.preprocessing import OneHotEncoder\n",
        "\n",
        "encoder = OneHotEncoder(drop=None, sparse_output=False)\n",
        "data_encoded = encoder.fit_transform(data[['Gender']])\n",
        "scaler = StandardScaler()\n",
        "scaled = scaler.fit_transform(data[['Age', 'Annual Income (k$)', 'Spending Score (1-100)']])\n",
        "data_scaled = pd.DataFrame(scaled, columns=['Age', 'Annual Income (k$)', 'Spending Score (1-100)'])\n",
        "data_encoded = pd.DataFrame(data_encoded, columns=encoder.get_feature_names_out(['Gender']))\n",
        "data = pd.concat([data_encoded, data_scaled], axis=1)\n",
        "data"
      ],
      "metadata": {
        "id": "uSUtoKAXZlVL"
      },
      "execution_count": null,
      "outputs": []
    },
    {
      "cell_type": "code",
      "source": [
        "import seaborn as sns\n",
        "import matplotlib.pyplot as plt\n",
        "data_encoded = pd.get_dummies(data, drop_first=True)\n",
        "correlation_matrix = data_encoded.iloc[:, 1:].corr()\n",
        "print(correlation_matrix)\n",
        "sns.heatmap(correlation_matrix, annot=True, cmap='coolwarm')\n",
        "plt.show()"
      ],
      "metadata": {
        "id": "Xuez60IGZlRl"
      },
      "execution_count": null,
      "outputs": []
    },
    {
      "cell_type": "code",
      "source": [
        "\n",
        "fig, axes = plt.subplots(1, 3, figsize=(18, 6))\n",
        "sns.barplot(data=data, x='Gender_Male', y='Age', ax=axes[0], palette='coolwarm')\n",
        "axes[0].set_title('Age by Gender')\n",
        "axes[0].set_xlabel('Gender')\n",
        "axes[0].set_ylabel('Age')\n",
        "\n",
        "sns.barplot(data=data, x='Gender_Male', y='Annual Income (k$)', ax=axes[1], palette='coolwarm')\n",
        "axes[1].set_title('Annual Income by Gender')\n",
        "axes[1].set_xlabel('Gender')\n",
        "axes[1].set_ylabel('Annual Income (k$)')\n",
        "\n",
        "sns.barplot(data=data, x='Gender_Male', y='Spending Score (1-100)', ax=axes[2], palette='coolwarm', label = 'Spending Score (1-100)')\n",
        "axes[2].set_title('Spending Score by Gender')\n",
        "axes[2].set_xlabel('Gender')\n",
        "axes[2].set_ylabel('Spending Score (1-100)')\n",
        "plt.legend()\n",
        "plt.show()"
      ],
      "metadata": {
        "id": "41_DmEFUZlPy"
      },
      "execution_count": null,
      "outputs": []
    },
    {
      "cell_type": "code",
      "source": [
        "plt.figure(figsize=(8, 6))\n",
        "sns.boxplot(data=data, x='Gender_Male', y='Annual Income (k$)', palette='coolwarm')\n",
        "plt.title('Annual Income Distribution by Gender')\n",
        "plt.xlabel('Gender')\n",
        "plt.ylabel('Annual Income (k$)')\n",
        "plt.show()"
      ],
      "metadata": {
        "id": "QQYcq-ulZ1K8"
      },
      "execution_count": null,
      "outputs": []
    },
    {
      "cell_type": "code",
      "source": [],
      "metadata": {
        "id": "gErg3W9VZ1IB"
      },
      "execution_count": null,
      "outputs": []
    }
  ]
}